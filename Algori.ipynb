{
  "nbformat": 4,
  "nbformat_minor": 0,
  "metadata": {
    "colab": {
      "provenance": [],
      "authorship_tag": "ABX9TyNZp3nt7509N0dhg65YpKpj",
      "include_colab_link": true
    },
    "kernelspec": {
      "name": "python3",
      "display_name": "Python 3"
    },
    "language_info": {
      "name": "python"
    }
  },
  "cells": [
    {
      "cell_type": "markdown",
      "metadata": {
        "id": "view-in-github",
        "colab_type": "text"
      },
      "source": [
        "<a href=\"https://colab.research.google.com/github/Nithi0710/DBMS-Lab/blob/main/Algori.ipynb\" target=\"_parent\"><img src=\"https://colab.research.google.com/assets/colab-badge.svg\" alt=\"Open In Colab\"/></a>"
      ]
    },
    {
      "cell_type": "code",
      "execution_count": null,
      "metadata": {
        "colab": {
          "base_uri": "https://localhost:8080/"
        },
        "id": "-hKvquZLfYb9",
        "outputId": "53ef8449-e37f-4d8f-ebd8-2e8b1d5e1fd5"
      },
      "outputs": [
        {
          "output_type": "stream",
          "name": "stdout",
          "text": [
            "Model coefficients: [2.97500221 2.07871737]\n",
            "Model intercept: -0.020674251102648977\n",
            "Mean Squared Error: 0.0067\n",
            "R² Score: 0.9949\n"
          ]
        }
      ],
      "source": [
        "import numpy as np\n",
        "import pandas as pd\n",
        "from sklearn.linear_model import LinearRegression\n",
        "from sklearn.model_selection import train_test_split\n",
        "from sklearn.metrics import mean_squared_error, r2_score\n",
        "np.random.seed(42)\n",
        "X = pd.DataFrame({\n",
        "    'x1': np.random.rand(100),\n",
        "    'x2': np.random.rand(100)\n",
        "})\n",
        "y = 3 * X['x1'] + 2 * X['x2'] + np.random.randn(100) * 0.1\n",
        "X_train, X_test, y_train, y_test = train_test_split(X, y, test_size=0.2, random_state=42)\n",
        "model = LinearRegression()\n",
        "model.fit(X_train, y_train)\n",
        "y_pred = model.predict(X_test)\n",
        "mse = mean_squared_error(y_test, y_pred)\n",
        "r2 = r2_score(y_test, y_pred)\n",
        "print(\"Model coefficients:\", model.coef_)\n",
        "print(\"Model intercept:\", model.intercept_)\n",
        "print(f\"Mean Squared Error: {mse:.4f}\")\n",
        "print(f\"R² Score: {r2:.4f}\")"
      ]
    },
    {
      "cell_type": "code",
      "source": [
        "graph = {\n",
        "    'A': ['B', 'C'],\n",
        "    'B': ['D', 'E'],\n",
        "    'C': ['F'],\n",
        "    'D': [],\n",
        "    'E': ['F'],\n",
        "    'F': []\n",
        "}\n",
        "\n",
        "def dfs(graph, start, goal, path=None, visited=None, max_depth=1000):\n",
        "    if path is None:\n",
        "        path = [start]\n",
        "    if visited is None:\n",
        "        visited = set()\n",
        "\n",
        "    if start == goal:\n",
        "        return path\n",
        "\n",
        "    if len(path) > max_depth:\n",
        "        return None\n",
        "\n",
        "    visited.add(start)\n",
        "\n",
        "    for neighbor in graph[start]:\n",
        "        if neighbor not in visited:\n",
        "            result = dfs(graph, neighbor, goal, path + [neighbor], visited, max_depth)\n",
        "            if result:\n",
        "                return result\n",
        "\n",
        "    return None\n",
        "\n",
        "start_node = 'A'\n",
        "goal_node = 'F'\n",
        "found_path = dfs(graph, start_node, goal_node)\n",
        "\n",
        "if found_path:\n",
        "    print(f\"Path found from {start_node} to {goal_node}: {' -> '.join(found_path)}\")\n",
        "else:\n",
        "    print(f\"No path found from {start_node} to {goal_node}\")"
      ],
      "metadata": {
        "id": "TDVPIP-ngULT",
        "colab": {
          "base_uri": "https://localhost:8080/"
        },
        "outputId": "a5f29fda-889b-48ba-925c-e0717fb3ef68"
      },
      "execution_count": null,
      "outputs": [
        {
          "output_type": "stream",
          "name": "stdout",
          "text": [
            "Path found from A to F: A -> B -> E -> F\n"
          ]
        }
      ]
    },
    {
      "cell_type": "code",
      "source": [
        "import heapq\n",
        "graph = {\n",
        "    'A': {'B': 1, 'C': 4},\n",
        "    'B': {'A': 1, 'C': 2, 'D': 5},\n",
        "    'C': {'A': 4, 'B': 2, 'D': 1},\n",
        "    'D': {'B': 5, 'C': 1}\n",
        "}\n",
        "\n",
        "def dijkstra(graph, start, goal):\n",
        "    queue = [(0, start, [start])]\n",
        "    visited = set()\n",
        "    while queue:\n",
        "        cost, node, path = heapq.heappop(queue)\n",
        "        if node == goal:\n",
        "            return cost, path\n",
        "        if node in visited:\n",
        "            continue\n",
        "        visited.add(node)\n",
        "        for neighbor, weight in graph[node].items():\n",
        "            if neighbor not in visited:\n",
        "                heapq.heappush(queue, (cost + weight, neighbor, path + [neighbor]))\n",
        "    return float('inf'), []\n",
        "\n",
        "start_node = 'A'\n",
        "goal_node = 'D'\n",
        "shortest_cost, shortest_path = dijkstra(graph, start_node, goal_node)\n",
        "print(f\"Shortest cost from {start_node} to {goal_node}: {shortest_cost}\")\n",
        "print(f\"Path: {' -> '.join(shortest_path)}\")"
      ],
      "metadata": {
        "colab": {
          "base_uri": "https://localhost:8080/"
        },
        "id": "Ux2M7Q-FhG9Y",
        "outputId": "5c696940-7c75-4cac-8c92-21b3622d0813"
      },
      "execution_count": null,
      "outputs": [
        {
          "output_type": "stream",
          "name": "stdout",
          "text": [
            "Shortest cost from A to D: 4\n",
            "Path: A -> B -> C -> D\n"
          ]
        }
      ]
    },
    {
      "cell_type": "code",
      "source": [
        "def quiz():\n",
        "    print(\"Conditional Probability Quiz\")\n",
        "    print(\"Q: What is P(A|B) if P(A and B) = 0.2 and P(B) = 0.5?\")\n",
        "    answer = float(input(\"Your Answer: \"))\n",
        "    correct = 0.2 / 0.5\n",
        "    if abs(answer - correct) < 0.01:\n",
        "        print(\"Correct!\")\n",
        "    else:\n",
        "        print(f\"Wrong! Correct Answer: {correct:.2f}\")\n",
        "\n",
        "quiz()"
      ],
      "metadata": {
        "colab": {
          "base_uri": "https://localhost:8080/"
        },
        "id": "nJxgqO_nhVBJ",
        "outputId": "62ee2222-4df3-4db4-98c0-323918b26b8b"
      },
      "execution_count": null,
      "outputs": [
        {
          "output_type": "stream",
          "name": "stdout",
          "text": [
            "Conditional Probability Quiz\n",
            "Q: What is P(A|B) if P(A and B) = 0.2 and P(B) = 0.5?\n",
            "Your Answer: 0.5\n",
            "Wrong! Correct Answer: 0.40\n"
          ]
        }
      ]
    },
    {
      "cell_type": "code",
      "source": [
        "import networkx as nx\n",
        "import matplotlib.pyplot as plt\n",
        "G = nx.DiGraph()\n",
        "G.add_nodes_from(['Rain', 'Sprinkler', 'WetGrass', 'Slippery'])\n",
        "G.add_edge('Rain', 'WetGrass')\n",
        "G.add_edge('Sprinkler', 'WetGrass')\n",
        "G.add_edge('WetGrass', 'Slippery')\n",
        "plt.figure(figsize=(8, 6))\n",
        "pos = nx.spring_layout(G)\n",
        "nx.draw(G, pos, with_labels=True, node_color='lightblue', node_size=1500, arrowsize=20, font_size=12)\n",
        "nx.draw_networkx_edges(G, pos, arrowstyle='->', arrowsize=20, edge_color='gray')\n",
        "plt.title(\"Bayesian Network: Conditional Dependencies\")\n",
        "plt.show()"
      ],
      "metadata": {
        "id": "G80JKUPifvI3",
        "colab": {
          "base_uri": "https://localhost:8080/",
          "height": 659
        },
        "outputId": "f9665c96-d1ad-4d88-bdea-3ec17e5dc68c"
      },
      "execution_count": null,
      "outputs": [
        {
          "output_type": "display_data",
          "data": {
            "text/plain": [
              "<Figure size 800x600 with 1 Axes>"
            ],
            "image/png": "[encoded data removed]"
          },
          "metadata": {}
        }
      ]
    }
  ]
}